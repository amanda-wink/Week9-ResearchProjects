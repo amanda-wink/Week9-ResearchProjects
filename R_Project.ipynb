{
 "cells": [
  {
   "cell_type": "code",
   "execution_count": 1,
   "metadata": {},
   "outputs": [
    {
     "name": "stdout",
     "output_type": "stream",
     "text": [
      "[1] 11\n"
     ]
    }
   ],
   "source": [
    "x <- 11\n",
    "print(x)"
   ]
  },
  {
   "cell_type": "code",
   "execution_count": 2,
   "metadata": {},
   "outputs": [
    {
     "name": "stdout",
     "output_type": "stream",
     "text": [
      "[1] 12 19 42 27 32\n"
     ]
    }
   ],
   "source": [
    "ages <- c(12, 19, 42, 27, 32)\n",
    "print(ages)"
   ]
  },
  {
   "cell_type": "code",
   "execution_count": 3,
   "metadata": {},
   "outputs": [
    {
     "data": {
      "text/html": [
       "26.4"
      ],
      "text/latex": [
       "26.4"
      ],
      "text/markdown": [
       "26.4"
      ],
      "text/plain": [
       "[1] 26.4"
      ]
     },
     "metadata": {},
     "output_type": "display_data"
    }
   ],
   "source": [
    "mean(ages)"
   ]
  },
  {
   "cell_type": "code",
   "execution_count": 4,
   "metadata": {},
   "outputs": [
    {
     "data": {
      "text/html": [
       "12"
      ],
      "text/latex": [
       "12"
      ],
      "text/markdown": [
       "12"
      ],
      "text/plain": [
       "[1] 12"
      ]
     },
     "metadata": {},
     "output_type": "display_data"
    }
   ],
   "source": [
    "min(ages)"
   ]
  },
  {
   "cell_type": "code",
   "execution_count": 5,
   "metadata": {},
   "outputs": [],
   "source": [
    "happiness <- read.csv(\"/Users/amanda/Documents/PythonProjects/Week9-ResearchProjects/happiness_report_2019.csv\")"
   ]
  },
  {
   "cell_type": "code",
   "execution_count": 6,
   "metadata": {},
   "outputs": [
    {
     "data": {
      "text/html": [
       "<ol class=list-inline>\n",
       "\t<li>156</li>\n",
       "\t<li>9</li>\n",
       "</ol>\n"
      ],
      "text/latex": [
       "\\begin{enumerate*}\n",
       "\\item 156\n",
       "\\item 9\n",
       "\\end{enumerate*}\n"
      ],
      "text/markdown": [
       "1. 156\n",
       "2. 9\n",
       "\n",
       "\n"
      ],
      "text/plain": [
       "[1] 156   9"
      ]
     },
     "metadata": {},
     "output_type": "display_data"
    }
   ],
   "source": [
    "dim(happiness)"
   ]
  },
  {
   "cell_type": "code",
   "execution_count": 7,
   "metadata": {},
   "outputs": [
    {
     "data": {
      "text/html": [
       "156"
      ],
      "text/latex": [
       "156"
      ],
      "text/markdown": [
       "156"
      ],
      "text/plain": [
       "[1] 156"
      ]
     },
     "metadata": {},
     "output_type": "display_data"
    }
   ],
   "source": [
    "nrow(happiness)"
   ]
  },
  {
   "cell_type": "code",
   "execution_count": 8,
   "metadata": {},
   "outputs": [
    {
     "data": {
      "text/html": [
       "<ol class=list-inline>\n",
       "\t<li>'Overall.rank'</li>\n",
       "\t<li>'Country.or.region'</li>\n",
       "\t<li>'Score'</li>\n",
       "\t<li>'GDP.per.capita'</li>\n",
       "\t<li>'Social.support'</li>\n",
       "\t<li>'Healthy.life.expectancy'</li>\n",
       "\t<li>'Freedom.to.make.life.choices'</li>\n",
       "\t<li>'Generosity'</li>\n",
       "\t<li>'Perceptions.of.corruption'</li>\n",
       "</ol>\n"
      ],
      "text/latex": [
       "\\begin{enumerate*}\n",
       "\\item 'Overall.rank'\n",
       "\\item 'Country.or.region'\n",
       "\\item 'Score'\n",
       "\\item 'GDP.per.capita'\n",
       "\\item 'Social.support'\n",
       "\\item 'Healthy.life.expectancy'\n",
       "\\item 'Freedom.to.make.life.choices'\n",
       "\\item 'Generosity'\n",
       "\\item 'Perceptions.of.corruption'\n",
       "\\end{enumerate*}\n"
      ],
      "text/markdown": [
       "1. 'Overall.rank'\n",
       "2. 'Country.or.region'\n",
       "3. 'Score'\n",
       "4. 'GDP.per.capita'\n",
       "5. 'Social.support'\n",
       "6. 'Healthy.life.expectancy'\n",
       "7. 'Freedom.to.make.life.choices'\n",
       "8. 'Generosity'\n",
       "9. 'Perceptions.of.corruption'\n",
       "\n",
       "\n"
      ],
      "text/plain": [
       "[1] \"Overall.rank\"                 \"Country.or.region\"           \n",
       "[3] \"Score\"                        \"GDP.per.capita\"              \n",
       "[5] \"Social.support\"               \"Healthy.life.expectancy\"     \n",
       "[7] \"Freedom.to.make.life.choices\" \"Generosity\"                  \n",
       "[9] \"Perceptions.of.corruption\"   "
      ]
     },
     "metadata": {},
     "output_type": "display_data"
    }
   ],
   "source": [
    "colnames(happiness)"
   ]
  },
  {
   "cell_type": "code",
   "execution_count": 9,
   "metadata": {},
   "outputs": [
    {
     "data": {
      "text/html": [
       "<ol class=list-inline>\n",
       "\t<li>'1'</li>\n",
       "\t<li>'2'</li>\n",
       "\t<li>'3'</li>\n",
       "\t<li>'4'</li>\n",
       "\t<li>'5'</li>\n",
       "\t<li>'6'</li>\n",
       "\t<li>'7'</li>\n",
       "\t<li>'8'</li>\n",
       "\t<li>'9'</li>\n",
       "\t<li>'10'</li>\n",
       "\t<li>'11'</li>\n",
       "\t<li>'12'</li>\n",
       "\t<li>'13'</li>\n",
       "\t<li>'14'</li>\n",
       "\t<li>'15'</li>\n",
       "\t<li>'16'</li>\n",
       "\t<li>'17'</li>\n",
       "\t<li>'18'</li>\n",
       "\t<li>'19'</li>\n",
       "\t<li>'20'</li>\n",
       "\t<li>'21'</li>\n",
       "\t<li>'22'</li>\n",
       "\t<li>'23'</li>\n",
       "\t<li>'24'</li>\n",
       "\t<li>'25'</li>\n",
       "\t<li>'26'</li>\n",
       "\t<li>'27'</li>\n",
       "\t<li>'28'</li>\n",
       "\t<li>'29'</li>\n",
       "\t<li>'30'</li>\n",
       "\t<li>'31'</li>\n",
       "\t<li>'32'</li>\n",
       "\t<li>'33'</li>\n",
       "\t<li>'34'</li>\n",
       "\t<li>'35'</li>\n",
       "\t<li>'36'</li>\n",
       "\t<li>'37'</li>\n",
       "\t<li>'38'</li>\n",
       "\t<li>'39'</li>\n",
       "\t<li>'40'</li>\n",
       "\t<li>'41'</li>\n",
       "\t<li>'42'</li>\n",
       "\t<li>'43'</li>\n",
       "\t<li>'44'</li>\n",
       "\t<li>'45'</li>\n",
       "\t<li>'46'</li>\n",
       "\t<li>'47'</li>\n",
       "\t<li>'48'</li>\n",
       "\t<li>'49'</li>\n",
       "\t<li>'50'</li>\n",
       "\t<li>'51'</li>\n",
       "\t<li>'52'</li>\n",
       "\t<li>'53'</li>\n",
       "\t<li>'54'</li>\n",
       "\t<li>'55'</li>\n",
       "\t<li>'56'</li>\n",
       "\t<li>'57'</li>\n",
       "\t<li>'58'</li>\n",
       "\t<li>'59'</li>\n",
       "\t<li>'60'</li>\n",
       "\t<li>'61'</li>\n",
       "\t<li>'62'</li>\n",
       "\t<li>'63'</li>\n",
       "\t<li>'64'</li>\n",
       "\t<li>'65'</li>\n",
       "\t<li>'66'</li>\n",
       "\t<li>'67'</li>\n",
       "\t<li>'68'</li>\n",
       "\t<li>'69'</li>\n",
       "\t<li>'70'</li>\n",
       "\t<li>'71'</li>\n",
       "\t<li>'72'</li>\n",
       "\t<li>'73'</li>\n",
       "\t<li>'74'</li>\n",
       "\t<li>'75'</li>\n",
       "\t<li>'76'</li>\n",
       "\t<li>'77'</li>\n",
       "\t<li>'78'</li>\n",
       "\t<li>'79'</li>\n",
       "\t<li>'80'</li>\n",
       "\t<li>'81'</li>\n",
       "\t<li>'82'</li>\n",
       "\t<li>'83'</li>\n",
       "\t<li>'84'</li>\n",
       "\t<li>'85'</li>\n",
       "\t<li>'86'</li>\n",
       "\t<li>'87'</li>\n",
       "\t<li>'88'</li>\n",
       "\t<li>'89'</li>\n",
       "\t<li>'90'</li>\n",
       "\t<li>'91'</li>\n",
       "\t<li>'92'</li>\n",
       "\t<li>'93'</li>\n",
       "\t<li>'94'</li>\n",
       "\t<li>'95'</li>\n",
       "\t<li>'96'</li>\n",
       "\t<li>'97'</li>\n",
       "\t<li>'98'</li>\n",
       "\t<li>'99'</li>\n",
       "\t<li>'100'</li>\n",
       "\t<li>'101'</li>\n",
       "\t<li>'102'</li>\n",
       "\t<li>'103'</li>\n",
       "\t<li>'104'</li>\n",
       "\t<li>'105'</li>\n",
       "\t<li>'106'</li>\n",
       "\t<li>'107'</li>\n",
       "\t<li>'108'</li>\n",
       "\t<li>'109'</li>\n",
       "\t<li>'110'</li>\n",
       "\t<li>'111'</li>\n",
       "\t<li>'112'</li>\n",
       "\t<li>'113'</li>\n",
       "\t<li>'114'</li>\n",
       "\t<li>'115'</li>\n",
       "\t<li>'116'</li>\n",
       "\t<li>'117'</li>\n",
       "\t<li>'118'</li>\n",
       "\t<li>'119'</li>\n",
       "\t<li>'120'</li>\n",
       "\t<li>'121'</li>\n",
       "\t<li>'122'</li>\n",
       "\t<li>'123'</li>\n",
       "\t<li>'124'</li>\n",
       "\t<li>'125'</li>\n",
       "\t<li>'126'</li>\n",
       "\t<li>'127'</li>\n",
       "\t<li>'128'</li>\n",
       "\t<li>'129'</li>\n",
       "\t<li>'130'</li>\n",
       "\t<li>'131'</li>\n",
       "\t<li>'132'</li>\n",
       "\t<li>'133'</li>\n",
       "\t<li>'134'</li>\n",
       "\t<li>'135'</li>\n",
       "\t<li>'136'</li>\n",
       "\t<li>'137'</li>\n",
       "\t<li>'138'</li>\n",
       "\t<li>'139'</li>\n",
       "\t<li>'140'</li>\n",
       "\t<li>'141'</li>\n",
       "\t<li>'142'</li>\n",
       "\t<li>'143'</li>\n",
       "\t<li>'144'</li>\n",
       "\t<li>'145'</li>\n",
       "\t<li>'146'</li>\n",
       "\t<li>'147'</li>\n",
       "\t<li>'148'</li>\n",
       "\t<li>'149'</li>\n",
       "\t<li>'150'</li>\n",
       "\t<li>'151'</li>\n",
       "\t<li>'152'</li>\n",
       "\t<li>'153'</li>\n",
       "\t<li>'154'</li>\n",
       "\t<li>'155'</li>\n",
       "\t<li>'156'</li>\n",
       "</ol>\n"
      ],
      "text/latex": [
       "\\begin{enumerate*}\n",
       "\\item '1'\n",
       "\\item '2'\n",
       "\\item '3'\n",
       "\\item '4'\n",
       "\\item '5'\n",
       "\\item '6'\n",
       "\\item '7'\n",
       "\\item '8'\n",
       "\\item '9'\n",
       "\\item '10'\n",
       "\\item '11'\n",
       "\\item '12'\n",
       "\\item '13'\n",
       "\\item '14'\n",
       "\\item '15'\n",
       "\\item '16'\n",
       "\\item '17'\n",
       "\\item '18'\n",
       "\\item '19'\n",
       "\\item '20'\n",
       "\\item '21'\n",
       "\\item '22'\n",
       "\\item '23'\n",
       "\\item '24'\n",
       "\\item '25'\n",
       "\\item '26'\n",
       "\\item '27'\n",
       "\\item '28'\n",
       "\\item '29'\n",
       "\\item '30'\n",
       "\\item '31'\n",
       "\\item '32'\n",
       "\\item '33'\n",
       "\\item '34'\n",
       "\\item '35'\n",
       "\\item '36'\n",
       "\\item '37'\n",
       "\\item '38'\n",
       "\\item '39'\n",
       "\\item '40'\n",
       "\\item '41'\n",
       "\\item '42'\n",
       "\\item '43'\n",
       "\\item '44'\n",
       "\\item '45'\n",
       "\\item '46'\n",
       "\\item '47'\n",
       "\\item '48'\n",
       "\\item '49'\n",
       "\\item '50'\n",
       "\\item '51'\n",
       "\\item '52'\n",
       "\\item '53'\n",
       "\\item '54'\n",
       "\\item '55'\n",
       "\\item '56'\n",
       "\\item '57'\n",
       "\\item '58'\n",
       "\\item '59'\n",
       "\\item '60'\n",
       "\\item '61'\n",
       "\\item '62'\n",
       "\\item '63'\n",
       "\\item '64'\n",
       "\\item '65'\n",
       "\\item '66'\n",
       "\\item '67'\n",
       "\\item '68'\n",
       "\\item '69'\n",
       "\\item '70'\n",
       "\\item '71'\n",
       "\\item '72'\n",
       "\\item '73'\n",
       "\\item '74'\n",
       "\\item '75'\n",
       "\\item '76'\n",
       "\\item '77'\n",
       "\\item '78'\n",
       "\\item '79'\n",
       "\\item '80'\n",
       "\\item '81'\n",
       "\\item '82'\n",
       "\\item '83'\n",
       "\\item '84'\n",
       "\\item '85'\n",
       "\\item '86'\n",
       "\\item '87'\n",
       "\\item '88'\n",
       "\\item '89'\n",
       "\\item '90'\n",
       "\\item '91'\n",
       "\\item '92'\n",
       "\\item '93'\n",
       "\\item '94'\n",
       "\\item '95'\n",
       "\\item '96'\n",
       "\\item '97'\n",
       "\\item '98'\n",
       "\\item '99'\n",
       "\\item '100'\n",
       "\\item '101'\n",
       "\\item '102'\n",
       "\\item '103'\n",
       "\\item '104'\n",
       "\\item '105'\n",
       "\\item '106'\n",
       "\\item '107'\n",
       "\\item '108'\n",
       "\\item '109'\n",
       "\\item '110'\n",
       "\\item '111'\n",
       "\\item '112'\n",
       "\\item '113'\n",
       "\\item '114'\n",
       "\\item '115'\n",
       "\\item '116'\n",
       "\\item '117'\n",
       "\\item '118'\n",
       "\\item '119'\n",
       "\\item '120'\n",
       "\\item '121'\n",
       "\\item '122'\n",
       "\\item '123'\n",
       "\\item '124'\n",
       "\\item '125'\n",
       "\\item '126'\n",
       "\\item '127'\n",
       "\\item '128'\n",
       "\\item '129'\n",
       "\\item '130'\n",
       "\\item '131'\n",
       "\\item '132'\n",
       "\\item '133'\n",
       "\\item '134'\n",
       "\\item '135'\n",
       "\\item '136'\n",
       "\\item '137'\n",
       "\\item '138'\n",
       "\\item '139'\n",
       "\\item '140'\n",
       "\\item '141'\n",
       "\\item '142'\n",
       "\\item '143'\n",
       "\\item '144'\n",
       "\\item '145'\n",
       "\\item '146'\n",
       "\\item '147'\n",
       "\\item '148'\n",
       "\\item '149'\n",
       "\\item '150'\n",
       "\\item '151'\n",
       "\\item '152'\n",
       "\\item '153'\n",
       "\\item '154'\n",
       "\\item '155'\n",
       "\\item '156'\n",
       "\\end{enumerate*}\n"
      ],
      "text/markdown": [
       "1. '1'\n",
       "2. '2'\n",
       "3. '3'\n",
       "4. '4'\n",
       "5. '5'\n",
       "6. '6'\n",
       "7. '7'\n",
       "8. '8'\n",
       "9. '9'\n",
       "10. '10'\n",
       "11. '11'\n",
       "12. '12'\n",
       "13. '13'\n",
       "14. '14'\n",
       "15. '15'\n",
       "16. '16'\n",
       "17. '17'\n",
       "18. '18'\n",
       "19. '19'\n",
       "20. '20'\n",
       "21. '21'\n",
       "22. '22'\n",
       "23. '23'\n",
       "24. '24'\n",
       "25. '25'\n",
       "26. '26'\n",
       "27. '27'\n",
       "28. '28'\n",
       "29. '29'\n",
       "30. '30'\n",
       "31. '31'\n",
       "32. '32'\n",
       "33. '33'\n",
       "34. '34'\n",
       "35. '35'\n",
       "36. '36'\n",
       "37. '37'\n",
       "38. '38'\n",
       "39. '39'\n",
       "40. '40'\n",
       "41. '41'\n",
       "42. '42'\n",
       "43. '43'\n",
       "44. '44'\n",
       "45. '45'\n",
       "46. '46'\n",
       "47. '47'\n",
       "48. '48'\n",
       "49. '49'\n",
       "50. '50'\n",
       "51. '51'\n",
       "52. '52'\n",
       "53. '53'\n",
       "54. '54'\n",
       "55. '55'\n",
       "56. '56'\n",
       "57. '57'\n",
       "58. '58'\n",
       "59. '59'\n",
       "60. '60'\n",
       "61. '61'\n",
       "62. '62'\n",
       "63. '63'\n",
       "64. '64'\n",
       "65. '65'\n",
       "66. '66'\n",
       "67. '67'\n",
       "68. '68'\n",
       "69. '69'\n",
       "70. '70'\n",
       "71. '71'\n",
       "72. '72'\n",
       "73. '73'\n",
       "74. '74'\n",
       "75. '75'\n",
       "76. '76'\n",
       "77. '77'\n",
       "78. '78'\n",
       "79. '79'\n",
       "80. '80'\n",
       "81. '81'\n",
       "82. '82'\n",
       "83. '83'\n",
       "84. '84'\n",
       "85. '85'\n",
       "86. '86'\n",
       "87. '87'\n",
       "88. '88'\n",
       "89. '89'\n",
       "90. '90'\n",
       "91. '91'\n",
       "92. '92'\n",
       "93. '93'\n",
       "94. '94'\n",
       "95. '95'\n",
       "96. '96'\n",
       "97. '97'\n",
       "98. '98'\n",
       "99. '99'\n",
       "100. '100'\n",
       "101. '101'\n",
       "102. '102'\n",
       "103. '103'\n",
       "104. '104'\n",
       "105. '105'\n",
       "106. '106'\n",
       "107. '107'\n",
       "108. '108'\n",
       "109. '109'\n",
       "110. '110'\n",
       "111. '111'\n",
       "112. '112'\n",
       "113. '113'\n",
       "114. '114'\n",
       "115. '115'\n",
       "116. '116'\n",
       "117. '117'\n",
       "118. '118'\n",
       "119. '119'\n",
       "120. '120'\n",
       "121. '121'\n",
       "122. '122'\n",
       "123. '123'\n",
       "124. '124'\n",
       "125. '125'\n",
       "126. '126'\n",
       "127. '127'\n",
       "128. '128'\n",
       "129. '129'\n",
       "130. '130'\n",
       "131. '131'\n",
       "132. '132'\n",
       "133. '133'\n",
       "134. '134'\n",
       "135. '135'\n",
       "136. '136'\n",
       "137. '137'\n",
       "138. '138'\n",
       "139. '139'\n",
       "140. '140'\n",
       "141. '141'\n",
       "142. '142'\n",
       "143. '143'\n",
       "144. '144'\n",
       "145. '145'\n",
       "146. '146'\n",
       "147. '147'\n",
       "148. '148'\n",
       "149. '149'\n",
       "150. '150'\n",
       "151. '151'\n",
       "152. '152'\n",
       "153. '153'\n",
       "154. '154'\n",
       "155. '155'\n",
       "156. '156'\n",
       "\n",
       "\n"
      ],
      "text/plain": [
       "  [1] \"1\"   \"2\"   \"3\"   \"4\"   \"5\"   \"6\"   \"7\"   \"8\"   \"9\"   \"10\"  \"11\"  \"12\" \n",
       " [13] \"13\"  \"14\"  \"15\"  \"16\"  \"17\"  \"18\"  \"19\"  \"20\"  \"21\"  \"22\"  \"23\"  \"24\" \n",
       " [25] \"25\"  \"26\"  \"27\"  \"28\"  \"29\"  \"30\"  \"31\"  \"32\"  \"33\"  \"34\"  \"35\"  \"36\" \n",
       " [37] \"37\"  \"38\"  \"39\"  \"40\"  \"41\"  \"42\"  \"43\"  \"44\"  \"45\"  \"46\"  \"47\"  \"48\" \n",
       " [49] \"49\"  \"50\"  \"51\"  \"52\"  \"53\"  \"54\"  \"55\"  \"56\"  \"57\"  \"58\"  \"59\"  \"60\" \n",
       " [61] \"61\"  \"62\"  \"63\"  \"64\"  \"65\"  \"66\"  \"67\"  \"68\"  \"69\"  \"70\"  \"71\"  \"72\" \n",
       " [73] \"73\"  \"74\"  \"75\"  \"76\"  \"77\"  \"78\"  \"79\"  \"80\"  \"81\"  \"82\"  \"83\"  \"84\" \n",
       " [85] \"85\"  \"86\"  \"87\"  \"88\"  \"89\"  \"90\"  \"91\"  \"92\"  \"93\"  \"94\"  \"95\"  \"96\" \n",
       " [97] \"97\"  \"98\"  \"99\"  \"100\" \"101\" \"102\" \"103\" \"104\" \"105\" \"106\" \"107\" \"108\"\n",
       "[109] \"109\" \"110\" \"111\" \"112\" \"113\" \"114\" \"115\" \"116\" \"117\" \"118\" \"119\" \"120\"\n",
       "[121] \"121\" \"122\" \"123\" \"124\" \"125\" \"126\" \"127\" \"128\" \"129\" \"130\" \"131\" \"132\"\n",
       "[133] \"133\" \"134\" \"135\" \"136\" \"137\" \"138\" \"139\" \"140\" \"141\" \"142\" \"143\" \"144\"\n",
       "[145] \"145\" \"146\" \"147\" \"148\" \"149\" \"150\" \"151\" \"152\" \"153\" \"154\" \"155\" \"156\""
      ]
     },
     "metadata": {},
     "output_type": "display_data"
    }
   ],
   "source": [
    "rownames(happiness)"
   ]
  },
  {
   "cell_type": "code",
   "execution_count": 10,
   "metadata": {},
   "outputs": [
    {
     "data": {
      "text/html": [
       "<table>\n",
       "<thead><tr><th scope=col>Overall.rank</th><th scope=col>Country.or.region</th><th scope=col>Score</th><th scope=col>GDP.per.capita</th><th scope=col>Social.support</th><th scope=col>Healthy.life.expectancy</th><th scope=col>Freedom.to.make.life.choices</th><th scope=col>Generosity</th><th scope=col>Perceptions.of.corruption</th></tr></thead>\n",
       "<tbody>\n",
       "\t<tr><td>1          </td><td>Finland    </td><td>7.769      </td><td>1.340      </td><td>1.587      </td><td>0.986      </td><td>0.596      </td><td>0.153      </td><td>0.393      </td></tr>\n",
       "\t<tr><td>2          </td><td>Denmark    </td><td>7.600      </td><td>1.383      </td><td>1.573      </td><td>0.996      </td><td>0.592      </td><td>0.252      </td><td>0.410      </td></tr>\n",
       "\t<tr><td>3          </td><td>Norway     </td><td>7.554      </td><td>1.488      </td><td>1.582      </td><td>1.028      </td><td>0.603      </td><td>0.271      </td><td>0.341      </td></tr>\n",
       "\t<tr><td>4          </td><td>Iceland    </td><td>7.494      </td><td>1.380      </td><td>1.624      </td><td>1.026      </td><td>0.591      </td><td>0.354      </td><td>0.118      </td></tr>\n",
       "\t<tr><td>5          </td><td>Netherlands</td><td>7.488      </td><td>1.396      </td><td>1.522      </td><td>0.999      </td><td>0.557      </td><td>0.322      </td><td>0.298      </td></tr>\n",
       "</tbody>\n",
       "</table>\n"
      ],
      "text/latex": [
       "\\begin{tabular}{r|lllllllll}\n",
       " Overall.rank & Country.or.region & Score & GDP.per.capita & Social.support & Healthy.life.expectancy & Freedom.to.make.life.choices & Generosity & Perceptions.of.corruption\\\\\n",
       "\\hline\n",
       "\t 1           & Finland     & 7.769       & 1.340       & 1.587       & 0.986       & 0.596       & 0.153       & 0.393      \\\\\n",
       "\t 2           & Denmark     & 7.600       & 1.383       & 1.573       & 0.996       & 0.592       & 0.252       & 0.410      \\\\\n",
       "\t 3           & Norway      & 7.554       & 1.488       & 1.582       & 1.028       & 0.603       & 0.271       & 0.341      \\\\\n",
       "\t 4           & Iceland     & 7.494       & 1.380       & 1.624       & 1.026       & 0.591       & 0.354       & 0.118      \\\\\n",
       "\t 5           & Netherlands & 7.488       & 1.396       & 1.522       & 0.999       & 0.557       & 0.322       & 0.298      \\\\\n",
       "\\end{tabular}\n"
      ],
      "text/markdown": [
       "\n",
       "| Overall.rank | Country.or.region | Score | GDP.per.capita | Social.support | Healthy.life.expectancy | Freedom.to.make.life.choices | Generosity | Perceptions.of.corruption |\n",
       "|---|---|---|---|---|---|---|---|---|\n",
       "| 1           | Finland     | 7.769       | 1.340       | 1.587       | 0.986       | 0.596       | 0.153       | 0.393       |\n",
       "| 2           | Denmark     | 7.600       | 1.383       | 1.573       | 0.996       | 0.592       | 0.252       | 0.410       |\n",
       "| 3           | Norway      | 7.554       | 1.488       | 1.582       | 1.028       | 0.603       | 0.271       | 0.341       |\n",
       "| 4           | Iceland     | 7.494       | 1.380       | 1.624       | 1.026       | 0.591       | 0.354       | 0.118       |\n",
       "| 5           | Netherlands | 7.488       | 1.396       | 1.522       | 0.999       | 0.557       | 0.322       | 0.298       |\n",
       "\n"
      ],
      "text/plain": [
       "  Overall.rank Country.or.region Score GDP.per.capita Social.support\n",
       "1 1            Finland           7.769 1.340          1.587         \n",
       "2 2            Denmark           7.600 1.383          1.573         \n",
       "3 3            Norway            7.554 1.488          1.582         \n",
       "4 4            Iceland           7.494 1.380          1.624         \n",
       "5 5            Netherlands       7.488 1.396          1.522         \n",
       "  Healthy.life.expectancy Freedom.to.make.life.choices Generosity\n",
       "1 0.986                   0.596                        0.153     \n",
       "2 0.996                   0.592                        0.252     \n",
       "3 1.028                   0.603                        0.271     \n",
       "4 1.026                   0.591                        0.354     \n",
       "5 0.999                   0.557                        0.322     \n",
       "  Perceptions.of.corruption\n",
       "1 0.393                    \n",
       "2 0.410                    \n",
       "3 0.341                    \n",
       "4 0.118                    \n",
       "5 0.298                    "
      ]
     },
     "metadata": {},
     "output_type": "display_data"
    }
   ],
   "source": [
    "happiness[1:5, ]"
   ]
  },
  {
   "cell_type": "code",
   "execution_count": 11,
   "metadata": {},
   "outputs": [
    {
     "data": {
      "text/html": [
       "<table>\n",
       "<thead><tr><th scope=col>Overall.rank</th><th scope=col>Country.or.region</th></tr></thead>\n",
       "<tbody>\n",
       "\t<tr><td>1          </td><td>Finland    </td></tr>\n",
       "\t<tr><td>2          </td><td>Denmark    </td></tr>\n",
       "\t<tr><td>3          </td><td>Norway     </td></tr>\n",
       "\t<tr><td>4          </td><td>Iceland    </td></tr>\n",
       "\t<tr><td>5          </td><td>Netherlands</td></tr>\n",
       "</tbody>\n",
       "</table>\n"
      ],
      "text/latex": [
       "\\begin{tabular}{r|ll}\n",
       " Overall.rank & Country.or.region\\\\\n",
       "\\hline\n",
       "\t 1           & Finland    \\\\\n",
       "\t 2           & Denmark    \\\\\n",
       "\t 3           & Norway     \\\\\n",
       "\t 4           & Iceland    \\\\\n",
       "\t 5           & Netherlands\\\\\n",
       "\\end{tabular}\n"
      ],
      "text/markdown": [
       "\n",
       "| Overall.rank | Country.or.region |\n",
       "|---|---|\n",
       "| 1           | Finland     |\n",
       "| 2           | Denmark     |\n",
       "| 3           | Norway      |\n",
       "| 4           | Iceland     |\n",
       "| 5           | Netherlands |\n",
       "\n"
      ],
      "text/plain": [
       "  Overall.rank Country.or.region\n",
       "1 1            Finland          \n",
       "2 2            Denmark          \n",
       "3 3            Norway           \n",
       "4 4            Iceland          \n",
       "5 5            Netherlands      "
      ]
     },
     "metadata": {},
     "output_type": "display_data"
    }
   ],
   "source": [
    "mini_df <- happiness[c(\"Overall.rank\", \"Country.or.region\")]\n",
    "mini_df[1:5,]"
   ]
  },
  {
   "cell_type": "code",
   "execution_count": 12,
   "metadata": {},
   "outputs": [
    {
     "data": {
      "text/html": [
       "<table>\n",
       "<thead><tr><th scope=col>Overall.rank</th><th scope=col>Country.or.region</th></tr></thead>\n",
       "<tbody>\n",
       "\t<tr><td>1          </td><td>Finland    </td></tr>\n",
       "\t<tr><td>2          </td><td>Denmark    </td></tr>\n",
       "\t<tr><td>3          </td><td>Norway     </td></tr>\n",
       "\t<tr><td>4          </td><td>Iceland    </td></tr>\n",
       "\t<tr><td>5          </td><td>Netherlands</td></tr>\n",
       "</tbody>\n",
       "</table>\n"
      ],
      "text/latex": [
       "\\begin{tabular}{r|ll}\n",
       " Overall.rank & Country.or.region\\\\\n",
       "\\hline\n",
       "\t 1           & Finland    \\\\\n",
       "\t 2           & Denmark    \\\\\n",
       "\t 3           & Norway     \\\\\n",
       "\t 4           & Iceland    \\\\\n",
       "\t 5           & Netherlands\\\\\n",
       "\\end{tabular}\n"
      ],
      "text/markdown": [
       "\n",
       "| Overall.rank | Country.or.region |\n",
       "|---|---|\n",
       "| 1           | Finland     |\n",
       "| 2           | Denmark     |\n",
       "| 3           | Norway      |\n",
       "| 4           | Iceland     |\n",
       "| 5           | Netherlands |\n",
       "\n"
      ],
      "text/plain": [
       "  Overall.rank Country.or.region\n",
       "1 1            Finland          \n",
       "2 2            Denmark          \n",
       "3 3            Norway           \n",
       "4 4            Iceland          \n",
       "5 5            Netherlands      "
      ]
     },
     "metadata": {},
     "output_type": "display_data"
    }
   ],
   "source": [
    "mini_df2 <- happiness[c(1,2)]\n",
    "mini_df2[1:5, ]"
   ]
  },
  {
   "cell_type": "code",
   "execution_count": 13,
   "metadata": {},
   "outputs": [
    {
     "data": {
      "text/html": [
       "<table>\n",
       "<thead><tr><th scope=col>Overall.rank</th><th scope=col>Country.or.region</th><th scope=col>Score</th><th scope=col>GDP.per.capita</th><th scope=col>Social.support</th><th scope=col>Healthy.life.expectancy</th></tr></thead>\n",
       "<tbody>\n",
       "\t<tr><td>1          </td><td>Finland    </td><td>7.769      </td><td>1.340      </td><td>1.587      </td><td>0.986      </td></tr>\n",
       "\t<tr><td>2          </td><td>Denmark    </td><td>7.600      </td><td>1.383      </td><td>1.573      </td><td>0.996      </td></tr>\n",
       "\t<tr><td>3          </td><td>Norway     </td><td>7.554      </td><td>1.488      </td><td>1.582      </td><td>1.028      </td></tr>\n",
       "\t<tr><td>4          </td><td>Iceland    </td><td>7.494      </td><td>1.380      </td><td>1.624      </td><td>1.026      </td></tr>\n",
       "\t<tr><td>5          </td><td>Netherlands</td><td>7.488      </td><td>1.396      </td><td>1.522      </td><td>0.999      </td></tr>\n",
       "</tbody>\n",
       "</table>\n"
      ],
      "text/latex": [
       "\\begin{tabular}{r|llllll}\n",
       " Overall.rank & Country.or.region & Score & GDP.per.capita & Social.support & Healthy.life.expectancy\\\\\n",
       "\\hline\n",
       "\t 1           & Finland     & 7.769       & 1.340       & 1.587       & 0.986      \\\\\n",
       "\t 2           & Denmark     & 7.600       & 1.383       & 1.573       & 0.996      \\\\\n",
       "\t 3           & Norway      & 7.554       & 1.488       & 1.582       & 1.028      \\\\\n",
       "\t 4           & Iceland     & 7.494       & 1.380       & 1.624       & 1.026      \\\\\n",
       "\t 5           & Netherlands & 7.488       & 1.396       & 1.522       & 0.999      \\\\\n",
       "\\end{tabular}\n"
      ],
      "text/markdown": [
       "\n",
       "| Overall.rank | Country.or.region | Score | GDP.per.capita | Social.support | Healthy.life.expectancy |\n",
       "|---|---|---|---|---|---|\n",
       "| 1           | Finland     | 7.769       | 1.340       | 1.587       | 0.986       |\n",
       "| 2           | Denmark     | 7.600       | 1.383       | 1.573       | 0.996       |\n",
       "| 3           | Norway      | 7.554       | 1.488       | 1.582       | 1.028       |\n",
       "| 4           | Iceland     | 7.494       | 1.380       | 1.624       | 1.026       |\n",
       "| 5           | Netherlands | 7.488       | 1.396       | 1.522       | 0.999       |\n",
       "\n"
      ],
      "text/plain": [
       "  Overall.rank Country.or.region Score GDP.per.capita Social.support\n",
       "1 1            Finland           7.769 1.340          1.587         \n",
       "2 2            Denmark           7.600 1.383          1.573         \n",
       "3 3            Norway            7.554 1.488          1.582         \n",
       "4 4            Iceland           7.494 1.380          1.624         \n",
       "5 5            Netherlands       7.488 1.396          1.522         \n",
       "  Healthy.life.expectancy\n",
       "1 0.986                  \n",
       "2 0.996                  \n",
       "3 1.028                  \n",
       "4 1.026                  \n",
       "5 0.999                  "
      ]
     },
     "metadata": {},
     "output_type": "display_data"
    }
   ],
   "source": [
    "not_rows <- names(happiness) %in% c(\"Freedom.to.make.life.choices\", \"Generosity\", \"Perceptions.of.corruption\")\n",
    "mini_df3 <- happiness[!not_rows]\n",
    "mini_df3[1:5,]"
   ]
  },
  {
   "cell_type": "code",
   "execution_count": 14,
   "metadata": {},
   "outputs": [
    {
     "data": {
      "text/html": [
       "<table>\n",
       "<thead><tr><th scope=col>Overall.rank</th><th scope=col>Country.or.region</th><th scope=col>Score</th><th scope=col>GDP.per.capita</th><th scope=col>Social.support</th><th scope=col>Healthy.life.expectancy</th><th scope=col>Freedom.to.make.life.choices</th><th scope=col>Generosity</th></tr></thead>\n",
       "<tbody>\n",
       "\t<tr><td>1          </td><td>Finland    </td><td>7.769      </td><td>1.340      </td><td>1.587      </td><td>0.986      </td><td>0.596      </td><td>0.153      </td></tr>\n",
       "\t<tr><td>2          </td><td>Denmark    </td><td>7.600      </td><td>1.383      </td><td>1.573      </td><td>0.996      </td><td>0.592      </td><td>0.252      </td></tr>\n",
       "\t<tr><td>3          </td><td>Norway     </td><td>7.554      </td><td>1.488      </td><td>1.582      </td><td>1.028      </td><td>0.603      </td><td>0.271      </td></tr>\n",
       "\t<tr><td>4          </td><td>Iceland    </td><td>7.494      </td><td>1.380      </td><td>1.624      </td><td>1.026      </td><td>0.591      </td><td>0.354      </td></tr>\n",
       "\t<tr><td>5          </td><td>Netherlands</td><td>7.488      </td><td>1.396      </td><td>1.522      </td><td>0.999      </td><td>0.557      </td><td>0.322      </td></tr>\n",
       "</tbody>\n",
       "</table>\n"
      ],
      "text/latex": [
       "\\begin{tabular}{r|llllllll}\n",
       " Overall.rank & Country.or.region & Score & GDP.per.capita & Social.support & Healthy.life.expectancy & Freedom.to.make.life.choices & Generosity\\\\\n",
       "\\hline\n",
       "\t 1           & Finland     & 7.769       & 1.340       & 1.587       & 0.986       & 0.596       & 0.153      \\\\\n",
       "\t 2           & Denmark     & 7.600       & 1.383       & 1.573       & 0.996       & 0.592       & 0.252      \\\\\n",
       "\t 3           & Norway      & 7.554       & 1.488       & 1.582       & 1.028       & 0.603       & 0.271      \\\\\n",
       "\t 4           & Iceland     & 7.494       & 1.380       & 1.624       & 1.026       & 0.591       & 0.354      \\\\\n",
       "\t 5           & Netherlands & 7.488       & 1.396       & 1.522       & 0.999       & 0.557       & 0.322      \\\\\n",
       "\\end{tabular}\n"
      ],
      "text/markdown": [
       "\n",
       "| Overall.rank | Country.or.region | Score | GDP.per.capita | Social.support | Healthy.life.expectancy | Freedom.to.make.life.choices | Generosity |\n",
       "|---|---|---|---|---|---|---|---|\n",
       "| 1           | Finland     | 7.769       | 1.340       | 1.587       | 0.986       | 0.596       | 0.153       |\n",
       "| 2           | Denmark     | 7.600       | 1.383       | 1.573       | 0.996       | 0.592       | 0.252       |\n",
       "| 3           | Norway      | 7.554       | 1.488       | 1.582       | 1.028       | 0.603       | 0.271       |\n",
       "| 4           | Iceland     | 7.494       | 1.380       | 1.624       | 1.026       | 0.591       | 0.354       |\n",
       "| 5           | Netherlands | 7.488       | 1.396       | 1.522       | 0.999       | 0.557       | 0.322       |\n",
       "\n"
      ],
      "text/plain": [
       "  Overall.rank Country.or.region Score GDP.per.capita Social.support\n",
       "1 1            Finland           7.769 1.340          1.587         \n",
       "2 2            Denmark           7.600 1.383          1.573         \n",
       "3 3            Norway            7.554 1.488          1.582         \n",
       "4 4            Iceland           7.494 1.380          1.624         \n",
       "5 5            Netherlands       7.488 1.396          1.522         \n",
       "  Healthy.life.expectancy Freedom.to.make.life.choices Generosity\n",
       "1 0.986                   0.596                        0.153     \n",
       "2 0.996                   0.592                        0.252     \n",
       "3 1.028                   0.603                        0.271     \n",
       "4 1.026                   0.591                        0.354     \n",
       "5 0.999                   0.557                        0.322     "
      ]
     },
     "metadata": {},
     "output_type": "display_data"
    }
   ],
   "source": [
    "happiness$Perceptions.of.corruption <- NULL\n",
    "happiness[1:5,]"
   ]
  },
  {
   "cell_type": "code",
   "execution_count": 16,
   "metadata": {},
   "outputs": [
    {
     "data": {
      "text/html": [
       "<ol class=list-inline>\n",
       "\t<li>'Overall.rank'</li>\n",
       "\t<li>'Country.or.region'</li>\n",
       "\t<li>'Score'</li>\n",
       "\t<li>'GDP.per.capita'</li>\n",
       "\t<li>'Social.support'</li>\n",
       "\t<li>'Healthy.life.expectancy'</li>\n",
       "\t<li>'Freedom.to.make.life.choices'</li>\n",
       "\t<li>'Generosity'</li>\n",
       "</ol>\n"
      ],
      "text/latex": [
       "\\begin{enumerate*}\n",
       "\\item 'Overall.rank'\n",
       "\\item 'Country.or.region'\n",
       "\\item 'Score'\n",
       "\\item 'GDP.per.capita'\n",
       "\\item 'Social.support'\n",
       "\\item 'Healthy.life.expectancy'\n",
       "\\item 'Freedom.to.make.life.choices'\n",
       "\\item 'Generosity'\n",
       "\\end{enumerate*}\n"
      ],
      "text/markdown": [
       "1. 'Overall.rank'\n",
       "2. 'Country.or.region'\n",
       "3. 'Score'\n",
       "4. 'GDP.per.capita'\n",
       "5. 'Social.support'\n",
       "6. 'Healthy.life.expectancy'\n",
       "7. 'Freedom.to.make.life.choices'\n",
       "8. 'Generosity'\n",
       "\n",
       "\n"
      ],
      "text/plain": [
       "[1] \"Overall.rank\"                 \"Country.or.region\"           \n",
       "[3] \"Score\"                        \"GDP.per.capita\"              \n",
       "[5] \"Social.support\"               \"Healthy.life.expectancy\"     \n",
       "[7] \"Freedom.to.make.life.choices\" \"Generosity\"                  "
      ]
     },
     "metadata": {},
     "output_type": "display_data"
    }
   ],
   "source": [
    "colnames(happiness)"
   ]
  },
  {
   "cell_type": "code",
   "execution_count": 15,
   "metadata": {},
   "outputs": [
    {
     "name": "stdout",
     "output_type": "stream",
     "text": [
      "[1] 1\n",
      "[1] 2\n",
      "[1] 3\n",
      "[1] 4\n",
      "[1] 5\n"
     ]
    }
   ],
   "source": [
    "for (val in 1:5)\n",
    "    {\n",
    "    print(val)\n",
    "    }"
   ]
  },
  {
   "cell_type": "code",
   "execution_count": null,
   "metadata": {},
   "outputs": [],
   "source": []
  }
 ],
 "metadata": {
  "kernelspec": {
   "display_name": "R",
   "language": "R",
   "name": "ir"
  },
  "language_info": {
   "codemirror_mode": "r",
   "file_extension": ".r",
   "mimetype": "text/x-r-source",
   "name": "R",
   "pygments_lexer": "r",
   "version": "3.6.1"
  }
 },
 "nbformat": 4,
 "nbformat_minor": 4
}
